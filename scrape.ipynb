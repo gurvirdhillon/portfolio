{
 "cells": [
  {
   "cell_type": "code",
   "execution_count": 1,
   "metadata": {},
   "outputs": [],
   "source": [
    "from bs4 import BeautifulSoup\n",
    "import requests"
   ]
  },
  {
   "cell_type": "code",
   "execution_count": 2,
   "metadata": {},
   "outputs": [
    {
     "name": "stdout",
     "output_type": "stream",
     "text": [
      "ok\n"
     ]
    }
   ],
   "source": [
    "try:\n",
    "    site = requests.get(\"https://gurvirdhillon.github.io/portfolio/\")\n",
    "    response = site.status_code\n",
    "    if response == 200:\n",
    "        print(\"ok\")\n",
    "    elif response == 404:\n",
    "        print(\"Check the link is correct because i cant find that:(\")\n",
    "    else:\n",
    "        print(site.status_code)\n",
    "except Exception as e:\n",
    "    print(\"Error\", e)"
   ]
  },
  {
   "cell_type": "code",
   "execution_count": 3,
   "metadata": {},
   "outputs": [],
   "source": [
    "# getting the detail about the updates section\n",
    "\n",
    "soup = BeautifulSoup(site.text, \"html.parser\")\n",
    "# first get the soup html parser\n",
    "\n"
   ]
  },
  {
   "cell_type": "code",
   "execution_count": 4,
   "metadata": {},
   "outputs": [
    {
     "data": {
      "text/plain": [
       "['Upper Second achieved in a bachelors degree in Software Engineering at the University of Portsmouth.',\n",
       " \"Pursuing a Master's degree in Artificial Intelligence at Royal Holloway University of London.\",\n",
       " 'Explored research into generative modelling and clustering techniques to uncover patterns in highly complex datasets ',\n",
       " 'ATLAS approved course in NoSQL development.',\n",
       " 'Alumni of the common missions project scheme (Hacking4MOD) - working previously alongside the Royal Navy on a MoD large scale challenge.',\n",
       " 'Guest speaker at the ACCU conference 2023.',\n",
       " 'Was a tutor for students aged 8-10 years old for beginner level of coding.',\n",
       " 'Freelance web developer with over 4 years experience in software development.']"
      ]
     },
     "execution_count": 4,
     "metadata": {},
     "output_type": "execute_result"
    }
   ],
   "source": [
    "getAchievements = soup.find(\"section\", id=\"achieve\")\n",
    "grabContents = getAchievements.text\n",
    "getContent = grabContents.split(\"\\n\")\n",
    "getContent[4:-2]"
   ]
  }
 ],
 "metadata": {
  "kernelspec": {
   "display_name": ".venv",
   "language": "python",
   "name": "python3"
  },
  "language_info": {
   "codemirror_mode": {
    "name": "ipython",
    "version": 3
   },
   "file_extension": ".py",
   "mimetype": "text/x-python",
   "name": "python",
   "nbconvert_exporter": "python",
   "pygments_lexer": "ipython3",
   "version": "3.13.1"
  }
 },
 "nbformat": 4,
 "nbformat_minor": 2
}
